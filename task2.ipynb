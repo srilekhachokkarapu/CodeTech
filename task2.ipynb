{
 "cells": [
  {
   "cell_type": "code",
   "execution_count": null,
   "id": "b9c60f75-797d-4fca-b911-c42537c4508c",
   "metadata": {},
   "outputs": [],
   "source": [
    "# Import required libraries\n",
    "import pandas as pd  # For data reading and analysis\n",
    "from fpdf import FPDF  # For creating PDF reports\n",
    "\n",
    "# Step 1: Read data from CSV file\n",
    "df = pd.read_csv(\"sample_data.csv\")  # Make sure this file exists in your directory\n",
    "\n",
    "# Step 2: Analyze the data\n",
    "summary = df.describe()  # Get summary statistics\n",
    "\n",
    "# Step 3: Create a PDF report\n",
    "pdf = FPDF()\n",
    "pdf.add_page()\n",
    "pdf.set_font(\"Arial\", size=12)\n",
    "\n",
    "pdf.cell(200, 10, txt=\"Automated Data Analysis Report\", ln=True, align='C')\n",
    "\n",
    "# Convert the summary DataFrame to text\n",
    "for col in summary.columns:\n",
    "    pdf.cell(200, 10, txt=f\"Column: {col}\", ln=True)\n",
    "    for stat in summary.index:\n",
    "        value = summary[col][stat]\n",
    "        pdf.cell(200, 10, txt=f\"{stat}: {value:.2f}\", ln=True)\n",
    "    pdf.ln(5)  # Add space between columns\n",
    "\n",
    "# Step 4: Save the PDF\n",
    "pdf.output(\"analysis_report.pdf\")\n"
   ]
  },
  {
   "cell_type": "code",
   "execution_count": null,
   "id": "c6834771-0256-4f7b-a329-6c23305dc3f9",
   "metadata": {},
   "outputs": [],
   "source": []
  },
  {
   "cell_type": "code",
   "execution_count": null,
   "id": "5d73354b-9e03-40b7-a60b-631145636888",
   "metadata": {},
   "outputs": [],
   "source": []
  }
 ],
 "metadata": {
  "kernelspec": {
   "display_name": "Python 3 (ipykernel)",
   "language": "python",
   "name": "python3"
  },
  "language_info": {
   "codemirror_mode": {
    "name": "ipython",
    "version": 3
   },
   "file_extension": ".py",
   "mimetype": "text/x-python",
   "name": "python",
   "nbconvert_exporter": "python",
   "pygments_lexer": "ipython3",
   "version": "3.13.1"
  }
 },
 "nbformat": 4,
 "nbformat_minor": 5
}
