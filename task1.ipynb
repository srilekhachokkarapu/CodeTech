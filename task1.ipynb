{
 "cells": [
  {
   "cell_type": "code",
   "execution_count": null,
   "id": "be36f978-fe43-421f-a0d4-f01aeeee1e96",
   "metadata": {},
   "outputs": [],
   "source": []
  },
  {
   "cell_type": "code",
   "execution_count": 3,
   "id": "d556c458-8b9e-4b3f-a7b2-6810c32dcbae",
   "metadata": {},
   "outputs": [
    {
     "name": "stdout",
     "output_type": "stream",
     "text": [
      "ERROR: API response did not contain expected data.\n",
      "Full API Response:\n",
      "{'cod': 401, 'message': 'Invalid API key. Please see https://openweathermap.org/faq#error401 for more info.'}\n"
     ]
    }
   ],
   "source": [
    "import requests\n",
    "import matplotlib.pyplot as plt\n",
    "import datetime\n",
    "\n",
    "# Replace with your OpenWeatherMap API key\n",
    "API_KEY = \"YOUR_API_KEY_HERE\"\n",
    "CITY = \"Hyderabad\"\n",
    "URL = f\"http://api.openweathermap.org/data/2.5/forecast?q={CITY}&appid={API_KEY}&units=metric\"\n",
    "\n",
    "# Step 1: Make the API call\n",
    "response = requests.get(URL)\n",
    "data = response.json()  # Convert response to dictionary\n",
    "\n",
    "# Step 2: Check if 'list' exists in the data\n",
    "if \"list\" not in data:\n",
    "    print(\"ERROR: API response did not contain expected data.\")\n",
    "    print(\"Full API Response:\")\n",
    "    print(data)  # Print the error message\n",
    "else:\n",
    "    # Step 3: Extract temperature and time\n",
    "    dates = []\n",
    "    temperatures = []\n",
    "\n",
    "    for item in data[\"list\"]:\n",
    "        temp = item[\"main\"][\"temp\"]\n",
    "        time = item[\"dt_txt\"]\n",
    "        dates.append(datetime.datetime.strptime(time, \"%Y-%m-%d %H:%M:%S\"))\n",
    "        temperatures.append(temp)\n",
    "\n",
    "    # Step 4: Plot the data\n",
    "    plt.figure(figsize=(12, 5))\n",
    "    plt.plot(dates, temperatures, marker='o', linestyle='-', color='blue')\n",
    "    plt.title(f\"5-Day Temperature Forecast for {CITY}\")\n",
    "    plt.xlabel(\"Date & Time\")\n",
    "    plt.ylabel(\"Temperature (°C)\")\n",
    "    plt.xticks(rotation=45)\n",
    "    plt.tight_layout()\n",
    "    plt.grid(True)\n",
    "    plt.show()\n"
   ]
  },
  {
   "cell_type": "code",
   "execution_count": null,
   "id": "770714e6-530e-4f55-b312-0d4da0a3191b",
   "metadata": {},
   "outputs": [],
   "source": []
  }
 ],
 "metadata": {
  "kernelspec": {
   "display_name": "Python 3 (ipykernel)",
   "language": "python",
   "name": "python3"
  },
  "language_info": {
   "codemirror_mode": {
    "name": "ipython",
    "version": 3
   },
   "file_extension": ".py",
   "mimetype": "text/x-python",
   "name": "python",
   "nbconvert_exporter": "python",
   "pygments_lexer": "ipython3",
   "version": "3.13.1"
  }
 },
 "nbformat": 4,
 "nbformat_minor": 5
}
