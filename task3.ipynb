{
 "cells": [
  {
   "cell_type": "code",
   "execution_count": 1,
   "id": "2bb5fcbc-4c4f-44b9-bbee-8ed7056430fc",
   "metadata": {},
   "outputs": [
    {
     "ename": "ModuleNotFoundError",
     "evalue": "No module named 'nltk'",
     "output_type": "error",
     "traceback": [
      "\u001b[1;31m---------------------------------------------------------------------------\u001b[0m",
      "\u001b[1;31mModuleNotFoundError\u001b[0m                       Traceback (most recent call last)",
      "Cell \u001b[1;32mIn[1], line 2\u001b[0m\n\u001b[0;32m      1\u001b[0m \u001b[38;5;66;03m# Import required libraries\u001b[39;00m\n\u001b[1;32m----> 2\u001b[0m \u001b[38;5;28;01mimport\u001b[39;00m \u001b[38;5;21;01mnltk\u001b[39;00m\n\u001b[0;32m      3\u001b[0m \u001b[38;5;28;01mfrom\u001b[39;00m \u001b[38;5;21;01mnltk\u001b[39;00m\u001b[38;5;21;01m.\u001b[39;00m\u001b[38;5;21;01mchat\u001b[39;00m\u001b[38;5;21;01m.\u001b[39;00m\u001b[38;5;21;01mutil\u001b[39;00m \u001b[38;5;28;01mimport\u001b[39;00m Chat, reflections\n\u001b[0;32m      5\u001b[0m \u001b[38;5;66;03m# Predefined pairs of patterns and responses\u001b[39;00m\n",
      "\u001b[1;31mModuleNotFoundError\u001b[0m: No module named 'nltk'"
     ]
    }
   ],
   "source": [
    "# Import required libraries\n",
    "import nltk\n",
    "from nltk.chat.util import Chat, reflections\n",
    "\n",
    "# Predefined pairs of patterns and responses\n",
    "pairs = [\n",
    "    [\n",
    "        r\"hi|hello|hey\",\n",
    "        [\"Hello! How can I assist you today?\", \"Hi there!\"]\n",
    "    ],\n",
    "    [\n",
    "        r\"what is your name ?\",\n",
    "        [\"I am a Python Chatbot created for internship task.\"]\n",
    "    ],\n",
    "    [\n",
    "        r\"how are you ?\",\n",
    "        [\"I'm doing good! How can I help you?\"]\n",
    "    ],\n",
    "    [\n",
    "        r\"(.*) your creator ?\",\n",
    "        [\"I was created by a smart intern using Python and NLTK.\"]\n",
    "    ],\n",
    "    [\n",
    "        r\"bye|exit\",\n",
    "        [\"Goodbye! Have a great day.\", \"Bye!\"]\n",
    "    ]\n",
    "]\n",
    "\n",
    "# Create the chatbot\n",
    "chatbot = Chat(pairs, reflections)\n",
    "\n",
    "# Start the chat\n",
    "print(\"Hi! I'm your chatbot. Type 'bye' to exit.\")\n",
    "chatbot.converse()\n"
   ]
  },
  {
   "cell_type": "code",
   "execution_count": null,
   "id": "e385ca84-a7b0-4c34-b8fd-459f8b71d993",
   "metadata": {},
   "outputs": [],
   "source": []
  }
 ],
 "metadata": {
  "kernelspec": {
   "display_name": "Python 3 (ipykernel)",
   "language": "python",
   "name": "python3"
  },
  "language_info": {
   "codemirror_mode": {
    "name": "ipython",
    "version": 3
   },
   "file_extension": ".py",
   "mimetype": "text/x-python",
   "name": "python",
   "nbconvert_exporter": "python",
   "pygments_lexer": "ipython3",
   "version": "3.13.1"
  }
 },
 "nbformat": 4,
 "nbformat_minor": 5
}
